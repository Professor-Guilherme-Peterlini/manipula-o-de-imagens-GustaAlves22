{
 "cells": [
  {
   "cell_type": "code",
   "execution_count": 1,
   "metadata": {},
   "outputs": [
    {
     "name": "stdout",
     "output_type": "stream",
     "text": [
      "Requirement already satisfied: Pillow in /home/codespace/.local/lib/python3.12/site-packages (11.0.0)\n",
      "Note: you may need to restart the kernel to use updated packages.\n"
     ]
    }
   ],
   "source": [
    "pip install pillow"
   ]
  },
  {
   "cell_type": "code",
   "execution_count": 11,
   "metadata": {},
   "outputs": [],
   "source": [
    "from PIL import Image, ImageEnhance, ImageFilter"
   ]
  },
  {
   "cell_type": "code",
   "execution_count": 13,
   "metadata": {},
   "outputs": [],
   "source": [
    "imagem = Image.open('O HOMEM.png')"
   ]
  },
  {
   "cell_type": "code",
   "execution_count": 14,
   "metadata": {},
   "outputs": [
    {
     "name": "stdout",
     "output_type": "stream",
     "text": [
      "Formato: WEBP\n",
      "Tamanho: (1200, 900)\n",
      "Modo: RGB\n"
     ]
    }
   ],
   "source": [
    "print(f\"Formato: {imagem.format}\")\n",
    "print(f\"Tamanho: {imagem.size}\")\n",
    "print(f\"Modo: {imagem.mode}\")"
   ]
  },
  {
   "cell_type": "markdown",
   "metadata": {},
   "source": [
    "### EXERCICIO 1\n",
    "# Aqui eu to alterando a imagem do craque."
   ]
  },
  {
   "cell_type": "code",
   "execution_count": 23,
   "metadata": {},
   "outputs": [],
   "source": [
    "def redimencionar_imagem(imagem, fator=0.5):\n",
    "    novo_tamanho = (int(imagem.size[0] * fator), int(imagem.size[1] * fator))\n",
    "    imagem_redimencionada = imagem.resize(novo_tamanho)\n",
    "    return imagem_redimencionada\n"
   ]
  },
  {
   "cell_type": "markdown",
   "metadata": {},
   "source": [
    "# Ver se deu certo."
   ]
  },
  {
   "cell_type": "code",
   "execution_count": 24,
   "metadata": {},
   "outputs": [],
   "source": [
    "imagem_pequena = redimencionar_imagem(imagem)\n",
    "imagem_pequena.save('imagem_redimencionada.png')"
   ]
  },
  {
   "cell_type": "code",
   "execution_count": 25,
   "metadata": {},
   "outputs": [
    {
     "name": "stdout",
     "output_type": "stream",
     "text": [
      "Formato: None\n",
      "Tamanho: (600, 450)\n",
      "Modo: RGB\n"
     ]
    }
   ],
   "source": [
    "print(f\"Formato: {imagem_pequena.format}\")\n",
    "print(f\"Tamanho: {imagem_pequena.size}\")\n",
    "print(f\"Modo: {imagem_pequena.mode}\")"
   ]
  },
  {
   "cell_type": "markdown",
   "metadata": {},
   "source": [
    "### EXERCICIO 2\n",
    "# Vou girar a imagem."
   ]
  },
  {
   "cell_type": "code",
   "execution_count": 26,
   "metadata": {},
   "outputs": [],
   "source": [
    "def transformar_imagem(imagem):\n",
    "    rotacionada = imagem.rotate(45, expand=True)\n",
    "    espelhada = imagem.transpose(Image.FLIP_LEFT_RIGHT)\n",
    "    return rotacionada, espelhada"
   ]
  },
  {
   "cell_type": "code",
   "execution_count": 27,
   "metadata": {},
   "outputs": [],
   "source": [
    "rotacionada, espelhada = transformar_imagem(imagem)\n",
    "rotacionada.save('imagem_rotacionada.png')\n",
    "espelhada.save('imagem_espelhada.png')"
   ]
  },
  {
   "cell_type": "markdown",
   "metadata": {},
   "source": [
    "### EXERCICIO 3\n",
    "# Aplicar filtros no gênio"
   ]
  },
  {
   "cell_type": "code",
   "execution_count": 28,
   "metadata": {},
   "outputs": [],
   "source": [
    "def aplicar_filtros(imagem):\n",
    "    # nitidez\n",
    "    nitidez = imagem.filter(ImageFilter.SHARPEN)\n",
    "\n",
    "    # Desfoque\n",
    "    desfoque = imagem.filter(ImageFilter.BLUR)\n",
    "\n",
    "    # Bordas\n",
    "    bordas = imagem.filter(ImageFilter.FIND_EDGES)\n",
    "    \n",
    "    return nitidez, desfoque, bordas"
   ]
  },
  {
   "cell_type": "code",
   "execution_count": 29,
   "metadata": {},
   "outputs": [],
   "source": [
    "nitidez, desfoque, bordas = aplicar_filtros(imagem)\n",
    "nitidez.save('imagem_nitida.png')\n",
    "desfoque.save('imagem_desfocada.png')\n",
    "bordas.save('imagem_bordas.png')"
   ]
  },
  {
   "cell_type": "code",
   "execution_count": 32,
   "metadata": {},
   "outputs": [],
   "source": [
    "def processamento_completo(imagem):\n",
    "    depay_redimencionado = redimencionar_imagem(imagem, 0.75)\n",
    "\n",
    "    depay_rotacionado = depay_redimencionado.rotate(30, expand=True)\n",
    "\n",
    "    depay_com_filtro = depay_rotacionado.filter(ImageFilter.SHARPEN)\n",
    "\n",
    "    enhancer = ImageEnhance.Brightness(depay_com_filtro)\n",
    "    depay_com_brilho = enhancer.enhance(1.2) # Aumenta o brilho em 20%\n",
    "\n",
    "    enhancer = ImageEnhance.Contrast(depay_com_brilho)\n",
    "    depay_final = enhancer.enhance(1.3)  # Aumenta o contraste em 30%\n",
    "\n",
    "    return depay_final"
   ]
  },
  {
   "cell_type": "code",
   "execution_count": 33,
   "metadata": {},
   "outputs": [],
   "source": [
    "# Teste o processamento completo\n",
    "imagem_final = processamento_completo(imagem)\n",
    "imagem_final.save('imagem_processada.png')"
   ]
  }
 ],
 "metadata": {
  "kernelspec": {
   "display_name": "Python 3",
   "language": "python",
   "name": "python3"
  },
  "language_info": {
   "codemirror_mode": {
    "name": "ipython",
    "version": 3
   },
   "file_extension": ".py",
   "mimetype": "text/x-python",
   "name": "python",
   "nbconvert_exporter": "python",
   "pygments_lexer": "ipython3",
   "version": "3.12.1"
  }
 },
 "nbformat": 4,
 "nbformat_minor": 2
}
